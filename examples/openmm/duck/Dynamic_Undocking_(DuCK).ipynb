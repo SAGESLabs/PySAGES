{
  "cells": [
    {
      "cell_type": "markdown",
      "metadata": {
        "id": "p49wJ0IjLAVD"
      },
      "source": [
        "\n",
        "# Setup of the environment\n"
      ]
    },
    {
      "cell_type": "markdown",
      "metadata": {
        "id": "WM_9PpDwKuoA"
      },
      "source": [
        "\n",
        "First, we are setting up our environment. We use an already compiled and packaged installation of HOOMD-blue and the DLExt plugin. We copy it from Google Drive and install pysages for it. This may require you to have read permissions to the shared Google Drive. We also have a Google Colab that performs this installation for reference.\n"
      ]
    },
    {
      "cell_type": "code",
      "execution_count": 1,
      "metadata": {
        "id": "nMThqa-DjVcb"
      },
      "outputs": [],
      "source": [
        "%%bash\n",
        "\n",
        "BASE_URL=\"https://drive.google.com/u/0/uc?id=1hsKkKtdxZTVfHKgqVF6qV2e-4SShmhr7&export=download\"\n",
        "wget -q --load-cookies /tmp/cookies.txt \"$BASE_URL&confirm=$(wget -q --save-cookies /tmp/cookies.txt --keep-session-cookies --no-check-certificate $BASE_URL -O- | sed -rn 's/.*confirm=(\\w+).*/\\1\\n/p')\" -O pysages-env.zip\n",
        "rm -rf /tmp/cookies.txt"
      ]
    },
    {
      "cell_type": "code",
      "execution_count": 2,
      "metadata": {
        "colab": {
          "base_uri": "https://localhost:8080/"
        },
        "id": "25H3kl03wzJe",
        "outputId": "dfb1c930-3915-4b55-9f9c-f87d12b60c06"
      },
      "outputs": [
        {
          "output_type": "stream",
          "name": "stdout",
          "text": [
            "env: PYSAGES_ENV=/env/pysages\n"
          ]
        }
      ],
      "source": [
        "%env PYSAGES_ENV=/env/pysages"
      ]
    },
    {
      "cell_type": "code",
      "execution_count": 3,
      "metadata": {
        "id": "CPkgxfj6w4te"
      },
      "outputs": [],
      "source": [
        "%%bash\n",
        "\n",
        "mkdir -p $PYSAGES_ENV\n",
        "unzip -qquo pysages-env.zip -d $PYSAGES_ENV\n",
        "rm pysages-env.zip"
      ]
    },
    {
      "cell_type": "code",
      "source": [
        "!update-alternatives --auto libcudnn &> /dev/null"
      ],
      "metadata": {
        "id": "2idXMcyR-o5-"
      },
      "execution_count": 4,
      "outputs": []
    },
    {
      "cell_type": "code",
      "execution_count": 5,
      "metadata": {
        "id": "JMO5fiRTxAWB"
      },
      "outputs": [],
      "source": [
        "import os\n",
        "import sys\n",
        "\n",
        "ver = sys.version_info\n",
        "sys.path.append(os.environ[\"PYSAGES_ENV\"] + \"/lib/python\" + str(ver.major) + \".\" + str(ver.minor) + \"/site-packages/\")\n",
        "\n",
        "os.environ[\"XLA_FLAGS\"] = \"--xla_gpu_strict_conv_algorithm_picker=false\"\n",
        "os.environ[\"LD_LIBRARY_PATH\"] = \"/usr/lib/x86_64-linux-gnu:\" + os.environ[\"LD_LIBRARY_PATH\"]"
      ]
    },
    {
      "cell_type": "markdown",
      "metadata": {
        "id": "lf2KeHt5_eFv"
      },
      "source": [
        "\n",
        "## PySAGES\n",
        "\n",
        "The next step is to install PySAGES.\n",
        "First, we install the jaxlib version that matches the CUDA installation of this Colab setup. See the JAX documentation [here](https://github.com/google/jax) for more details.\n"
      ]
    },
    {
      "cell_type": "code",
      "execution_count": 6,
      "metadata": {
        "id": "R_gW2ERpi9tw",
        "colab": {
          "base_uri": "https://localhost:8080/"
        },
        "outputId": "de992f1a-4a44-4cac-8078-0f8bf7e89695"
      },
      "outputs": [
        {
          "output_type": "stream",
          "name": "stderr",
          "text": [
            "WARNING: Running pip as the 'root' user can result in broken permissions and conflicting behaviour with the system package manager. It is recommended to use a virtual environment instead: https://pip.pypa.io/warnings/venv\n"
          ]
        }
      ],
      "source": [
        "%%bash\n",
        "\n",
        "pip install -q --upgrade pip\n",
        "# Installs the wheel compatible with CUDA 11 and cuDNN 8.0.5.\n",
        "pip install -q --upgrade \"jax[cuda11_cudnn805]\" -f https://storage.googleapis.com/jax-releases/jax_releases.html &> /dev/null"
      ]
    },
    {
      "cell_type": "markdown",
      "metadata": {
        "id": "mx0IRythaTyG"
      },
      "source": [
        "\n",
        "We test the jax installation and check the versions.\n"
      ]
    },
    {
      "cell_type": "markdown",
      "metadata": {
        "id": "vtAmA51IAYxn"
      },
      "source": [
        "\n",
        "Now we can finally install PySAGES. We clone the newest version from [here](https://github.com/SSAGESLabs/PySAGES) and build the remaining pure python dependencies and PySAGES itself.\n"
      ]
    },
    {
      "cell_type": "code",
      "execution_count": 7,
      "metadata": {
        "id": "xYRGOcFJjEE6"
      },
      "outputs": [],
      "source": [
        "%%bash\n",
        "\n",
        "rm -rf PySAGES\n",
        "git clone https://github.com/SSAGESLabs/PySAGES.git &> /dev/null\n",
        "cd PySAGES\n",
        "pip install -q . &> /dev/null"
      ]
    },
    {
      "cell_type": "markdown",
      "metadata": {
        "id": "fRZDARPsDQHF"
      },
      "source": [
        "\n",
        "# Dynamic Undocking simulation\n"
      ]
    },
    {
      "cell_type": "markdown",
      "metadata": {
        "id": "Uh2y2RXDDZub"
      },
      "source": [
        "\n",
        "The Dynamical Undocking method (DuCK)has been described as an\n",
        "orthogonal method to docking for effective distinguishing true ligands from\n",
        "decoys in binding affinity interactions with proteins.\n",
        "\n",
        "For this Colab, we are readimg Amber files to import to OpenMM, for this, we use the ParMEd."
      ]
    },
    {
      "cell_type": "code",
      "source": [
        "%%bash\n",
        "\n",
        "cd /content\n",
        "\n",
        "RST=\"https://github.com/SSAGESLabs/PySAGES/raw/miccom-ws/examples/openmm/duck/in-md2.rst\"\n",
        "PRMTOP=\"https://github.com/SSAGESLabs/PySAGES/raw/miccom-ws/examples/openmm/duck/in.prmtop\"\n",
        "\n",
        "wget -q $RST\n",
        "wget -q $PRMTOP"
      ],
      "metadata": {
        "id": "jaHuLi_l9NCC"
      },
      "execution_count": 8,
      "outputs": []
    },
    {
      "cell_type": "code",
      "execution_count": 14,
      "metadata": {
        "id": "aIP9vx8yDdr1"
      },
      "outputs": [],
      "source": [
        "!pip install -q parmed &> /dev/null\n",
        "\n",
        "\n",
        "from pysages.methods import CVRestraints\n",
        "from pysages.methods import ABF\n",
        "from pysages.colvars import Distance\n",
        "from pysages.utils import try_import\n",
        "\n",
        "#from IPython import get_ipython\n",
        "openmm = try_import(\"openmm\", \"simtk.openmm\")\n",
        "unit = try_import(\"openmm.unit\", \"simtk.unit\")\n",
        "app = try_import(\"openmm.app\", \"simtk.openmm.app\")\n",
        "from openmm import *\n",
        "from openmm.app import *\n",
        "from openmm.unit import *\n",
        "\n",
        "# ParmEd Imports\n",
        "from parmed import load_file, unit as u\n",
        "from parmed.openmm import StateDataReporter, NetCDFReporter\n",
        "\n",
        "import jax\n",
        "import jax.numpy as np\n",
        "import math\n",
        "import numpy\n",
        "import pysages\n",
        "import matplotlib.pyplot as plt\n",
        "\n",
        "\n",
        "pi = numpy.pi\n",
        "\n",
        "\n",
        "def generate_simulation(\n",
        "    T = 300.0 * kelvin,\n",
        "    dt = 1.0 * femtoseconds\n",
        "):\n",
        "    print('Loading AMBER files...')\n",
        "    ala2_solv = load_file('in.prmtop', 'in-md2.rst')\n",
        "    system = ala2_solv.createSystem(nonbondedMethod=PME,rigidWater=True,switchDistance=1.0*nanometer,\n",
        "        nonbondedCutoff=1.2*nanometer, constraints=None)\n",
        "    # Create the integrator to do Langevin dynamics\n",
        "    integrator = openmm.LangevinIntegrator(\n",
        "        T,  # Temperature of heat bath\n",
        "        1.0/picoseconds,  # Friction coefficient\n",
        "        dt,  # Time step\n",
        "    )\n",
        "    # Define the platform to use; CUDA, OpenCL, CPU, or Reference. Or do not specify\n",
        "    platform = Platform.getPlatformByName('CUDA')\n",
        "    \n",
        "    # Create the Simulation object\n",
        "    sim = app.Simulation(ala2_solv.topology, system, integrator,platform)\n",
        "\n",
        "    # Set the particle positions\n",
        "    sim.context.setPositions(ala2_solv.positions)\n",
        "    sim.reporters.append(StateDataReporter('data.txt', 1000, step=True,separator=' '))\n",
        "    return sim"
      ]
    },
    {
      "cell_type": "markdown",
      "metadata": {
        "id": "n0Rd-hMnCD-B"
      },
      "source": [
        "\n",
        "We define some helper functions for plotting and saving the data."
      ]
    },
    {
      "cell_type": "code",
      "execution_count": 10,
      "metadata": {
        "id": "HkHOzXMzExps"
      },
      "outputs": [],
      "source": [
        "def plot_energy(result):\n",
        "    energy = result[\"fes_fn\"]\n",
        "    mesh = numpy.asarray(result[\"mesh\"])\n",
        "    print(mesh.shape)\n",
        "    A = energy(mesh)\n",
        "    surface = A\n",
        "\n",
        "    fig, ax = plt.subplots()\n",
        "\n",
        "    ax.set_xlabel(\"CV\")\n",
        "    ax.set_ylabel(\"Free energy $[\\\\epsilon]$\")\n",
        "\n",
        "    ax.plot(mesh,surface, color=\"teal\")\n",
        "\n",
        "    fig.savefig(\"energy.png\")\n",
        "\n",
        "\n",
        "def plot_forces(result):\n",
        "    fig, ax = plt.subplots()\n",
        "\n",
        "    ax.set_xlabel(\"CV\")\n",
        "    ax.set_ylabel(\"Forces $[\\\\epsilon]$\")\n",
        "\n",
        "    forces = numpy.asarray(result[\"mean_force\"])\n",
        "    x = numpy.asarray(result[\"mesh\"])\n",
        "    ax.plot(x, forces, color=\"teal\")\n",
        "\n",
        "    fig.savefig(\"forces.png\")\n",
        "\n",
        "\n",
        "def plot_histogram(result):\n",
        "    surface = numpy.asarray((result[\"histogram\"]) / numpy.nanmax(numpy.asarray(result[\"histogram\"])))\n",
        "\n",
        "    fig, ax = plt.subplots()\n",
        "\n",
        "    ax.set_xlabel(\"CV\")\n",
        "    ax.set_ylabel(\"Histogram $[\\\\epsilon]$\")\n",
        "\n",
        "    x = numpy.asarray(result[\"mesh\"])\n",
        "    ax.plot(x, surface, color=\"teal\")\n",
        "\n",
        "    fig.savefig(\"histogram.png\")\n",
        "\n",
        "\n",
        "def save_energy_forces(result):\n",
        "    Energy = result[\"fes_fn\"]\n",
        "    Forces = numpy.asarray(result[\"mean_force\"])\n",
        "    Grid = numpy.asarray(result[\"mesh\"])\n",
        "    A = Energy(Grid)\n",
        "    surface = A\n",
        "\n",
        "    hist = numpy.asarray((result[\"histogram\"]) / numpy.nanmax(numpy.asarray(result[\"histogram\"])))\n",
        "    numpy.savetxt(\"FES.csv\", numpy.column_stack([Grid, surface]))\n",
        "    numpy.savetxt(\"Forces.csv\", numpy.column_stack([Grid, Forces]))\n",
        "    numpy.savetxt(\"Histogram.csv\", numpy.column_stack([Grid, hist]))"
      ]
    },
    {
      "cell_type": "markdown",
      "metadata": {
        "id": "YibErIQhC0Lv"
      },
      "source": [
        "\n",
        "The next step is to select our orthogonal CV to charactarize the undocking.\n",
        "In this case the distance of a pair of H-bond forming atoms will do.\n"
      ]
    },
    {
      "cell_type": "code",
      "execution_count": 11,
      "metadata": {
        "id": "67488aXwQXba"
      },
      "outputs": [],
      "source": [
        "indices=[[4668],[2501]]\n",
        "\n",
        "cvs = (Distance(indices), )\n",
        "\n",
        "grid = pysages.Grid(\n",
        "    lower = (0.25,),\n",
        "    upper = (0.50,),\n",
        "    shape = (16,),\n",
        "    periodic = False\n",
        ")\n",
        "topology = (8,8)"
      ]
    },
    {
      "cell_type": "markdown",
      "metadata": {
        "id": "BgQ88M0sIfbp"
      },
      "source": [
        "\n",
        "Now all that we have left is run the simulation and analyze the results.\n"
      ]
    },
    {
      "cell_type": "code",
      "execution_count": null,
      "metadata": {
        "id": "r911REinQdLF",
        "colab": {
          "base_uri": "https://localhost:8080/"
        },
        "outputId": "2c7ec787-0afc-4de1-a744-33022c3bca57"
      },
      "outputs": [
        {
          "output_type": "stream",
          "name": "stdout",
          "text": [
            "Loading AMBER files...\n"
          ]
        },
        {
          "output_type": "stream",
          "name": "stderr",
          "text": [
            "/usr/local/lib/python3.7/dist-packages/pysages/methods/abf.py:213: FutureWarning: The sym_pos argument to solve() is deprecated and will be removed in a future JAX release. Use assume_a='pos' instead.\n",
            "  Wp = linalg.solve(Jxi @ Jxi.T, Jxi @ p, sym_pos=\"sym\")\n",
            "/usr/local/lib/python3.7/dist-packages/pysages/methods/abf.py:213: FutureWarning: The sym_pos argument to solve() is deprecated and will be removed in a future JAX release. Use assume_a='pos' instead.\n",
            "  Wp = linalg.solve(Jxi @ Jxi.T, Jxi @ p, sym_pos=\"sym\")\n",
            "/usr/local/lib/python3.7/dist-packages/pysages/methods/abf.py:213: FutureWarning: The sym_pos argument to solve() is deprecated and will be removed in a future JAX release. Use assume_a='pos' instead.\n",
            "  Wp = linalg.solve(Jxi @ Jxi.T, Jxi @ p, sym_pos=\"sym\")\n"
          ]
        }
      ],
      "source": [
        "restraints = CVRestraints(lower=(0.23,), upper=(0.60,), kl=(10000.,), ku=(10000.,))\n",
        "method = ABF(cvs, grid, restraints=restraints)\n",
        "state = pysages.run(method, generate_simulation, 50000)"
      ]
    },
    {
      "cell_type": "markdown",
      "metadata": {
        "id": "bGIDE56RLCcP"
      },
      "source": [
        "\n",
        "And plot the results.\n"
      ]
    },
    {
      "cell_type": "code",
      "source": [
        "result = pysages.analyze(state, topology=topology)"
      ],
      "metadata": {
        "id": "8e07_91DCHbt"
      },
      "execution_count": null,
      "outputs": []
    },
    {
      "cell_type": "code",
      "execution_count": null,
      "metadata": {
        "id": "aOXCppWkQnJI"
      },
      "outputs": [],
      "source": [
        "plot_energy(result)\n",
        "plot_forces(result)\n",
        "plot_histogram(result)\n",
        "save_energy_forces(result)"
      ]
    },
    {
      "cell_type": "code",
      "source": [],
      "metadata": {
        "id": "rgCVEQPj-R2w"
      },
      "execution_count": null,
      "outputs": []
    }
  ],
  "metadata": {
    "accelerator": "GPU",
    "colab": {
      "collapsed_sections": [
        "p49wJ0IjLAVD"
      ],
      "provenance": [],
      "toc_visible": true
    },
    "jupytext": {
      "formats": "ipynb,md",
      "main_language": "python"
    },
    "kernelspec": {
      "display_name": "Python 3",
      "name": "python3"
    },
    "language_info": {
      "name": "python"
    }
  },
  "nbformat": 4,
  "nbformat_minor": 0
}