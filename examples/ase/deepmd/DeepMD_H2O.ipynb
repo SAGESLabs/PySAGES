{
 "cells": [
  {
   "cell_type": "markdown",
   "metadata": {
    "id": "p49wJ0IjLAVD"
   },
   "source": [
    "\n",
    "# Setup of the environment\n"
   ]
  },
  {
   "cell_type": "code",
   "execution_count": 1,
   "metadata": {
    "colab": {
     "base_uri": "https://localhost:8080/"
    },
    "id": "FVvh27OEfIG4",
    "outputId": "f95211d2-0d0a-4205-93a4-bb5a7833d89f"
   },
   "outputs": [
    {
     "name": "stdout",
     "output_type": "stream",
     "text": [
      "⏬ Downloading https://github.com/jaimergp/miniforge/releases/latest/download/Mambaforge-colab-Linux-x86_64.sh...\n",
      "📦 Installing...\n",
      "📌 Adjusting configuration...\n",
      "🩹 Patching environment...\n",
      "⏲ Done in 0:00:20\n",
      "🔁 Restarting kernel...\n"
     ]
    }
   ],
   "source": [
    "!pip install -q condacolab\n",
    "import condacolab\n",
    "condacolab.install()"
   ]
  },
  {
   "cell_type": "code",
   "execution_count": 1,
   "metadata": {
    "colab": {
     "base_uri": "https://localhost:8080/"
    },
    "id": "nMThqa-DjVcb",
    "outputId": "2410fba8-bbcd-46c8-bf82-ddafa66b3a39"
   },
   "outputs": [
    {
     "name": "stdout",
     "output_type": "stream",
     "text": [
      "conda 4.14.0\n"
     ]
    }
   ],
   "source": [
    "!conda --version"
   ]
  },
  {
   "cell_type": "code",
   "execution_count": 22,
   "metadata": {
    "id": "wx9DPC2xiTFM"
   },
   "outputs": [],
   "source": [
    "!rm /usr/local/conda-meta/pinned"
   ]
  },
  {
   "cell_type": "code",
   "execution_count": null,
   "metadata": {
    "id": "JMO5fiRTxAWB"
   },
   "outputs": [],
   "source": [
    "!mamba install -q deepmd-kit=*=*gpu libdeepmd=*=*gpu lammps horovod -c https://conda.deepmodeling.com -c defaults"
   ]
  },
  {
   "cell_type": "code",
   "execution_count": null,
   "metadata": {
    "id": "fFkPqXkzlt91"
   },
   "outputs": [],
   "source": [
    "!mamba install -q ase"
   ]
  },
  {
   "cell_type": "markdown",
   "metadata": {
    "id": "lf2KeHt5_eFv"
   },
   "source": [
    "\n",
    "## PySAGES\n",
    "\n",
    "The next step is to install PySAGES.\n",
    "First, we install the jaxlib version that matches the CUDA installation of this Colab setup. See the JAX documentation [here](https://github.com/google/jax) for more details.\n"
   ]
  },
  {
   "cell_type": "code",
   "execution_count": 24,
   "metadata": {
    "id": "R_gW2ERpi9tw"
   },
   "outputs": [],
   "source": [
    "%%bash\n",
    "\n",
    "pip install -q --upgrade pip &> /dev/null\n",
    "# Installs the wheel compatible with CUDA 11 and cuDNN 8.2 or newer.\n",
    "pip install -q --upgrade \"jax[cuda]\" -f https://storage.googleapis.com/jax-releases/jax_cuda_releases.html &> /dev/null"
   ]
  },
  {
   "cell_type": "markdown",
   "metadata": {
    "id": "vtAmA51IAYxn"
   },
   "source": [
    "\n",
    "Now we can finally install PySAGES. We clone the newest version from [here](https://github.com/SSAGESLabs/PySAGES) and build the remaining pure python dependencies and PySAGES itself.\n"
   ]
  },
  {
   "cell_type": "code",
   "execution_count": 25,
   "metadata": {
    "id": "xYRGOcFJjEE6"
   },
   "outputs": [],
   "source": [
    "%%bash\n",
    "\n",
    "rm -rf PySAGES\n",
    "git clone https://github.com/SSAGESLabs/PySAGES.git &> /dev/null\n",
    "cd PySAGES\n",
    "pip install -q . &> /dev/null"
   ]
  },
  {
   "cell_type": "markdown",
   "metadata": {
    "id": "fRZDARPsDQHF"
   },
   "source": [
    "\n",
    "# DeePMD Simulation\n"
   ]
  },
  {
   "cell_type": "markdown",
   "metadata": {
    "id": "Uh2y2RXDDZub"
   },
   "source": [
    "Fisrt we define a Calculator for ASE based on DeePMD and retrieve the atoms information as well as a pre-trained DeePMD model."
   ]
  },
  {
   "cell_type": "code",
   "execution_count": 35,
   "metadata": {
    "id": "i0GdwrUWsKIx"
   },
   "outputs": [],
   "source": [
    "%%bash\n",
    "\n",
    "cd /content\n",
    "\n",
    "PB=\"https://github.com/SSAGESLabs/PySAGES/raw/miccom-ws/examples/ase/deepmd/graph.pb\"\n",
    "XYZ=\"https://github.com/SSAGESLabs/PySAGES/raw/miccom-ws/examples/ase/deepmd/h2o.xyz\"\n",
    "\n",
    "wget -q $PB\n",
    "wget -q $XYZ"
   ]
  },
  {
   "cell_type": "code",
   "execution_count": 36,
   "metadata": {
    "id": "aIP9vx8yDdr1"
   },
   "outputs": [],
   "source": [
    "from pathlib import Path\n",
    "from typing import TYPE_CHECKING, Dict, List, Optional, Union\n",
    "\n",
    "from ase.calculators.calculator import (\n",
    "    Calculator, all_changes, PropertyNotImplementedError\n",
    ")\n",
    "\n",
    "from deepmd import DeepPotential\n",
    "\n",
    "if TYPE_CHECKING:\n",
    "    from ase import Atoms\n",
    "\n",
    "\n",
    "class DP(Calculator):\n",
    "    \"\"\"Implementation of ASE deepmd calculator.\n",
    "\n",
    "    Implemented propertie are `energy`, `forces` and `stress`\n",
    "\n",
    "    Parameters\n",
    "    ----------\n",
    "    model : Union[str, Path]\n",
    "        path to the model\n",
    "    label : str, optional\n",
    "        calculator label, by default \"DP\"\n",
    "    type_dict : Dict[str, int], optional\n",
    "        mapping of element types and their numbers, best left None and the calculator\n",
    "        will infer this information from model, by default None\n",
    "\n",
    "    Examples\n",
    "    --------\n",
    "    Compute potential energy\n",
    "\n",
    "    >>> from ase import Atoms\n",
    "    >>> from deepmd.calculator import DP\n",
    "    >>> water = Atoms('H2O',\n",
    "    >>>             positions=[(0.7601, 1.9270, 1),\n",
    "    >>>                        (1.9575, 1, 1),\n",
    "    >>>                        (1., 1., 1.)],\n",
    "    >>>             cell=[100, 100, 100],\n",
    "    >>>             calculator=DP(model=\"frozen_model.pb\"))\n",
    "    >>> print(water.get_potential_energy())\n",
    "    >>> print(water.get_forces())\n",
    "\n",
    "    Run BFGS structure optimization\n",
    "\n",
    "    >>> from ase.optimize import BFGS\n",
    "    >>> dyn = BFGS(water)\n",
    "    >>> dyn.run(fmax=1e-6)\n",
    "    >>> print(water.get_positions())\n",
    "    \"\"\"\n",
    "\n",
    "    name = \"DP\"\n",
    "    implemented_properties = [\"energy\", \"free_energy\", \"forces\", \"virial\", \"stress\"]\n",
    "\n",
    "    def __init__(\n",
    "        self,\n",
    "        model: Union[str, \"Path\"],\n",
    "        label: str = \"DP\",\n",
    "        type_dict: Dict[str, int] = None,\n",
    "        **kwargs\n",
    "    ) -> None:\n",
    "        Calculator.__init__(self, label=label, **kwargs)\n",
    "        self.dp = DeepPotential(str(Path(model).resolve()))\n",
    "        if type_dict:\n",
    "            self.type_dict = type_dict\n",
    "        else:\n",
    "            self.type_dict = dict(\n",
    "                zip(self.dp.get_type_map(), range(self.dp.get_ntypes()))\n",
    "            )\n",
    "\n",
    "    def calculate(\n",
    "        self,\n",
    "        atoms: Optional[\"Atoms\"] = None,\n",
    "        properties: List[str] = [\"energy\", \"forces\", \"virial\"],\n",
    "        system_changes: List[str] = all_changes,\n",
    "    ):\n",
    "        \"\"\"Run calculation with deepmd model.\n",
    "\n",
    "        Parameters\n",
    "        ----------\n",
    "        atoms : Optional[Atoms], optional\n",
    "            atoms object to run the calculation on, by default None\n",
    "        properties : List[str], optional\n",
    "            unused, only for function signature compatibility,\n",
    "            by default [\"energy\", \"forces\", \"stress\"]\n",
    "        system_changes : List[str], optional\n",
    "            unused, only for function signature compatibility, by default all_changes\n",
    "        \"\"\"\n",
    "        if atoms is not None:\n",
    "            self.atoms = atoms.copy()\n",
    "\n",
    "        coord = self.atoms.get_positions().reshape([1, -1])\n",
    "        if sum(self.atoms.get_pbc()) > 0:\n",
    "            cell = self.atoms.get_cell().reshape([1, -1])\n",
    "        else:\n",
    "            cell = None\n",
    "        symbols = self.atoms.get_chemical_symbols()\n",
    "        atype = [self.type_dict[k] for k in symbols]\n",
    "        e, f, v = self.dp.eval(coords=coord, cells=cell, atom_types=atype)\n",
    "        self.results['energy'] = e[0][0]\n",
    "        # see https://gitlab.com/ase/ase/-/merge_requests/2485\n",
    "        self.results['free_energy'] = e[0][0]\n",
    "        self.results['forces'] = f[0]\n",
    "        self.results['virial'] = v[0].reshape(3, 3)\n",
    "\n",
    "        # convert virial into stress for lattice relaxation\n",
    "        if \"stress\" in properties:\n",
    "            if sum(atoms.get_pbc()) > 0:\n",
    "                # the usual convention (tensile stress is positive)\n",
    "                # stress = -virial / volume\n",
    "                stress = -0.5 * (v[0].copy() + v[0].copy().T) / atoms.get_volume()\n",
    "                # Voigt notation\n",
    "                self.results['stress'] = stress.flat[[0, 4, 8, 5, 2, 1]]\n",
    "            else:\n",
    "                raise PropertyNotImplementedError"
   ]
  },
  {
   "cell_type": "markdown",
   "metadata": {
    "id": "n0Rd-hMnCD-B"
   },
   "source": [
    "We then define a simulation in the same way as we would for OpenMM or HOOMD-blue"
   ]
  },
  {
   "cell_type": "code",
   "execution_count": 37,
   "metadata": {
    "id": "HkHOzXMzExps"
   },
   "outputs": [],
   "source": [
    "from ase.io import read\n",
    "from ase.md.velocitydistribution import MaxwellBoltzmannDistribution\n",
    "from ase.md.langevin import Langevin\n",
    "from ase import units\n",
    "from ase.io.trajectory import Trajectory\n",
    "from ase import Atoms\n",
    "import numpy as np\n",
    "import sys\n",
    "import pysages\n",
    "from pysages.colvars import Distance, Angle\n",
    "from pysages.methods import ABF, CVRestraints\n",
    "import matplotlib.pyplot as plt\n",
    "\n",
    "\n",
    "T=300.0\n",
    "kT = T * units.kB\n",
    "dt = 0.5 * units.fs\n",
    "pi=np.pi\n",
    "\n",
    "\n",
    "def wrap_system(atoms: Atoms):\n",
    "    \"\"\"Automatically wrap a system into the box.\"\"\"\n",
    "    cell = atoms.cell\n",
    "    cell = cell\n",
    "    for i in range(len(atoms)):\n",
    "        atom = atoms[i]\n",
    "        for j in range(3):\n",
    "            atom.position[j]\n",
    "            while atom.position[j] < 0:\n",
    "                atom.position[j] += cell[j][j]\n",
    "            while atom.position[j] > cell[j][j]:\n",
    "                atom.position[j] -= cell[j][j]\n",
    "    return atoms\n",
    "\n",
    "  \n",
    "def generate_simulation(T=T,kT=kT):\n",
    "    dimer = read('h2o.xyz')\n",
    "    dimer = wrap_system(dimer)\n",
    "    calc = DP(model='graph.pb')\n",
    "    dimer.set_calculator(calc)\n",
    "    MaxwellBoltzmannDistribution(dimer, temperature_K=T)\n",
    "    dyn = Langevin(dimer, dt, temperature_K=T, friction=0.02)  # 0.5 fs time step.\n",
    "    def _printenergy(a=dimer):\n",
    "        \"\"\"Function to print the potential, kinetic and total energy\"\"\"\n",
    "        epot = a.get_potential_energy() / len(a)\n",
    "        ekin = a.get_kinetic_energy() / len(a)\n",
    "        with open(\"energy.txt\", \"a\") as f:\n",
    "            print('Energy per atom: Epot = %.3feV  Ekin = %.3feV (T=%3.0fK)  '\n",
    "                'Etot = %.3feV' % (epot, ekin, ekin / (1.5 * units.kB), epot + ekin), file=f)\n",
    "\n",
    "    dyn.attach(_printenergy, interval=1000)\n",
    "#in case of storing ase trajectory\n",
    "#    traj = Trajectory('moldyn3.traj', 'w', dimer)\n",
    "#    dyn.attach(traj.write, interval=10)\n",
    "    return dyn"
   ]
  },
  {
   "cell_type": "markdown",
   "metadata": {
    "id": "YibErIQhC0Lv"
   },
   "source": [
    "We define some helper functions for ploting and saving the data"
   ]
  },
  {
   "cell_type": "code",
   "execution_count": 38,
   "metadata": {
    "id": "67488aXwQXba"
   },
   "outputs": [],
   "source": [
    "def plot_energy(result, save=True):\n",
    "    fig, ax = plt.subplots()\n",
    "\n",
    "    ax.set_xlabel(\"CV\")\n",
    "    ax.set_ylabel(\"Free energy $[\\\\epsilon]$\")\n",
    "\n",
    "    free_energy = np.asarray(result[\"free_energy\"])\n",
    "    x = np.asarray(result[\"mesh\"])\n",
    "    ax.plot(x, free_energy, color=\"teal\")\n",
    "\n",
    "    if save:\n",
    "        fig.savefig(\"energy.png\")\n",
    "    \n",
    "    return plt.show()\n",
    "\n",
    "\n",
    "# %%\n",
    "def plot_forces(result):\n",
    "    fig, ax = plt.subplots()\n",
    "\n",
    "    ax.set_xlabel(\"CV\")\n",
    "    ax.set_ylabel(\"Forces $[\\\\epsilon]$\")\n",
    "\n",
    "    forces = np.asarray(result[\"mean_force\"])\n",
    "    x = np.asarray(result[\"mesh\"])\n",
    "    ax.plot(x, forces, color=\"teal\")\n",
    "\n",
    "    fig.savefig(\"forces.png\")\n",
    "\n",
    "\n",
    "def plot_histogram(result):\n",
    "    fig, ax = plt.subplots()\n",
    "\n",
    "    ax.set_xlabel(\"CV\")\n",
    "    ax.set_ylabel(\"Histogram $[\\\\epsilon]$\")\n",
    "\n",
    "    hist = np.asarray(result[\"histogram\"]) / np.nanmax(\n",
    "        np.asarray(result[\"histogram\"])\n",
    "    )\n",
    "    x = np.asarray(result[\"mesh\"])\n",
    "    ax.plot(x, hist, color=\"teal\")\n",
    "\n",
    "    fig.savefig(\"histogram.png\")\n",
    "\n",
    "\n",
    "# %%\n",
    "def save_energy_forces(result):\n",
    "    Energy = np.asarray(result[\"free_energy\"])\n",
    "    Forces = np.asarray(result[\"mean_force\"])\n",
    "    Grid = np.asarray(result[\"mesh\"])\n",
    "    hist = np.asarray(result[\"histogram\"]) / np.nanmax(\n",
    "        np.asarray(result[\"histogram\"])\n",
    "    )\n",
    "    np.savetxt(\"FES.csv\", np.column_stack([Grid, Energy]))\n",
    "    np.savetxt(\"Forces.csv\", np.column_stack([Grid, Forces]))\n",
    "    np.savetxt(\"Histogram.csv\", np.column_stack([Grid, hist]))"
   ]
  },
  {
   "cell_type": "markdown",
   "metadata": {
    "id": "BgQ88M0sIfbp"
   },
   "source": [
    "And finally, we define our collective variable and sampling method."
   ]
  },
  {
   "cell_type": "code",
   "execution_count": 39,
   "metadata": {
    "id": "r911REinQdLF"
   },
   "outputs": [],
   "source": [
    "cvs = [\n",
    "    Angle([1, 0, 2]),\n",
    "]\n",
    "grid = pysages.Grid(lower=(1.25,), upper=(2.5,), shape=(32,), periodic=False)\n",
    "topology = (14, 4)\n",
    "\n",
    "# Adaptive Biasing Force Method for free energy calculations\n",
    "method = ABF(cvs, grid, N=100)"
   ]
  },
  {
   "cell_type": "markdown",
   "metadata": {
    "id": "bGIDE56RLCcP"
   },
   "source": [
    "And run our simulation"
   ]
  },
  {
   "cell_type": "code",
   "execution_count": 42,
   "metadata": {
    "colab": {
     "base_uri": "https://localhost:8080/",
     "height": 649
    },
    "id": "aOXCppWkQnJI",
    "outputId": "45eed335-298c-4e5f-9e60-2b1455ceb2ea"
   },
   "outputs": [
    {
     "name": "stderr",
     "output_type": "stream",
     "text": [
      "/usr/local/lib/python3.7/site-packages/pysages/ml/utils.py:54: FutureWarning: jax.tree_flatten is deprecated, and will be removed in a future release. Use jax.tree_util.tree_flatten instead.\n",
      "  data, structure = tree_flatten(params)\n",
      "/usr/local/lib/python3.7/site-packages/pysages/ml/optimizers.py:212: FutureWarning: The sym_pos argument to solve() is deprecated and will be removed in a future JAX release. Use assume_a='pos' instead.\n",
      "  dp = solve(H, Je, sym_pos=True)\n",
      "/usr/local/lib/python3.7/site-packages/pysages/ml/optimizers.py:212: FutureWarning: The sym_pos argument to solve() is deprecated and will be removed in a future JAX release. Use assume_a='pos' instead.\n",
      "  dp = solve(H, Je, sym_pos=True)\n"
     ]
    },
    {
     "data": {
      "image/png": "[encoded data removed]",
      "text/plain": [
       "<Figure size 432x288 with 1 Axes>"
      ]
     },
     "metadata": {
      "needs_background": "light"
     },
     "output_type": "display_data"
    },
    {
     "data": {
      "image/png": "[encoded data removed]",
      "text/plain": [
       "<Figure size 432x288 with 1 Axes>"
      ]
     },
     "metadata": {
      "needs_background": "light"
     },
     "output_type": "display_data"
    }
   ],
   "source": [
    "state = pysages.run(method, generate_simulation, 50000)\n",
    "# Analyze function inside PySAGES\n",
    "result = pysages.analyze(state, topology=(14, 4))\n",
    "plot_forces(result)\n",
    "plot_histogram(result)\n",
    "save_energy_forces(result)"
   ]
  },
  {
   "cell_type": "markdown",
   "metadata": {
    "id": "_vigR7XaMUD3"
   },
   "source": [
    "Let's see how the free energy surface looks like."
   ]
  },
  {
   "cell_type": "code",
   "execution_count": 43,
   "metadata": {
    "colab": {
     "base_uri": "https://localhost:8080/",
     "height": 279
    },
    "id": "jBiATDSaSqUw",
    "outputId": "04ba3f9c-1687-46b6-ac4f-0837060028d2"
   },
   "outputs": [
    {
     "data": {
      "image/png": "[encoded data removed]",
      "text/plain": [
       "<Figure size 432x288 with 1 Axes>"
      ]
     },
     "metadata": {
      "needs_background": "light"
     },
     "output_type": "display_data"
    }
   ],
   "source": [
    "plot_energy(result)"
   ]
  },
  {
   "cell_type": "code",
   "execution_count": null,
   "metadata": {
    "id": "3gP4hYgaxuCH"
   },
   "outputs": [],
   "source": []
  }
 ],
 "metadata": {
  "accelerator": "GPU",
  "colab": {
   "collapsed_sections": [
    "lf2KeHt5_eFv"
   ],
   "provenance": []
  },
  "jupytext": {
   "formats": "ipynb,md",
   "main_language": "python"
  },
  "kernelspec": {
   "display_name": "Python 3",
   "name": "python3"
  },
  "language_info": {
   "name": "python"
  }
 },
 "nbformat": 4,
 "nbformat_minor": 0
}
