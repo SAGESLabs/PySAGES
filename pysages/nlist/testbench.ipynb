{
 "cells": [
  {
   "cell_type": "code",
   "execution_count": 1,
   "metadata": {},
   "outputs": [],
   "source": [
    "%load_ext autoreload\n",
    "%autoreload 2"
   ]
  },
  {
   "cell_type": "code",
   "execution_count": 2,
   "metadata": {},
   "outputs": [],
   "source": [
    "from CellList import CellList\n",
    "from VerletList import VerletList\n",
    "import jax"
   ]
  },
  {
   "cell_type": "code",
   "execution_count": 8,
   "metadata": {},
   "outputs": [],
   "source": [
    "box_size = 8\n",
    "positions = jax.random.uniform(jax.random.PRNGKey(0), (int(1e3), 3))*box_size"
   ]
  },
  {
   "cell_type": "code",
   "execution_count": 4,
   "metadata": {},
   "outputs": [],
   "source": [
    "cell_list = CellList(box = (box_size, box_size, box_size), cutoff = 2.0)\n",
    "cell_list.get_cell_ids(positions)\n",
    "idxs = jax.numpy.asarray(list(range(positions.shape[0])))\n",
    "all_ns = cell_list.get_neighbor_ids(idxs, mask_self=True)"
   ]
  },
  {
   "cell_type": "code",
   "execution_count": 5,
   "metadata": {},
   "outputs": [],
   "source": [
    "verlet_list = VerletList(cutoff = 2.0)\n",
    "atom0_n_ids = all_ns[0][all_ns[0] != -1]\n",
    "neighbors = verlet_list.get_neighborhood(positions[atom0_n_ids, :], positions[0, :])"
   ]
  },
  {
   "cell_type": "code",
   "execution_count": 6,
   "metadata": {},
   "outputs": [],
   "source": [
    "atom0_real_neighnors = atom0_n_ids[neighbors]"
   ]
  },
  {
   "cell_type": "code",
   "execution_count": 7,
   "metadata": {},
   "outputs": [
    {
     "data": {
      "text/plain": [
       "Array([993, 988, 968, 961, 959, 951, 947, 923, 891, 872, 871, 862, 828,\n",
       "       808, 770, 736, 735, 708, 681, 631, 629, 621, 600, 594, 571, 555,\n",
       "       541, 529, 509, 506, 466, 443, 437, 433, 400, 344, 328, 314, 309,\n",
       "       283, 250, 242, 197, 145, 119,  98,  95,  47,  40,  22],      dtype=int32)"
      ]
     },
     "execution_count": 7,
     "metadata": {},
     "output_type": "execute_result"
    }
   ],
   "source": [
    "atom0_real_neighnors"
   ]
  },
  {
   "cell_type": "code",
   "execution_count": null,
   "metadata": {},
   "outputs": [],
   "source": []
  }
 ],
 "metadata": {
  "kernelspec": {
   "display_name": "jax",
   "language": "python",
   "name": "python3"
  },
  "language_info": {
   "codemirror_mode": {
    "name": "ipython",
    "version": 3
   },
   "file_extension": ".py",
   "mimetype": "text/x-python",
   "name": "python",
   "nbconvert_exporter": "python",
   "pygments_lexer": "ipython3",
   "version": "3.10.13"
  }
 },
 "nbformat": 4,
 "nbformat_minor": 2
}
