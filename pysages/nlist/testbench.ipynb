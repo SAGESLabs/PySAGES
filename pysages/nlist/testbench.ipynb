{
 "cells": [
  {
   "cell_type": "code",
   "execution_count": 1,
   "metadata": {},
   "outputs": [],
   "source": [
    "%load_ext autoreload\n",
    "%load_ext line_profiler\n",
    "%autoreload 2"
   ]
  },
  {
   "cell_type": "code",
   "execution_count": 2,
   "metadata": {},
   "outputs": [],
   "source": [
    "from cell_list import get_cell_list, get_neighbors_list, get_neighbor_ids\n",
    "from verlet_list import get_neighbor_ids as get_verlet_neighbor_ids\n",
    "from verlet_list import get_neighborhood, _pairwise_dist\n",
    "from jax import random\n",
    "import jax.numpy as jnp"
   ]
  },
  {
   "cell_type": "markdown",
   "metadata": {},
   "source": [
    "## Setting up a simple box\n",
    "\n",
    "This will create a $3 \\times 3 \\times 3$ centered at 0 and puts particles on the nodes of a grid with edge size of 1. First particle is placed at the center of the box $(0, 0, 0)$ and the rest of the particles (26 more) are placed at $+/- 1$ of the center."
   ]
  },
  {
   "cell_type": "code",
   "execution_count": 3,
   "metadata": {},
   "outputs": [],
   "source": [
    "box_edge = 3.0\n",
    "box_size = jnp.array([box_edge, box_edge, box_edge])\n",
    "#positions = random.uniform(random.PRNGKey(0), (int(1e2), 3))*box_edge\n",
    "positions = jnp.array([[ 0.0,  0.0,  0.0],\n",
    "                       [ 0.0,  1.0,  0.0],\n",
    "                       [ 0.0, -1.0,  0.0],\n",
    "                       [ 1.0,  0.0,  0.0],\n",
    "                       [ 1.0,  1.0,  0.0], \n",
    "                       [ 1.0, -1.0,  0.0],\n",
    "                       [-1.0,  0.0,  0.0],\n",
    "                       [-1.0,  1.0,  0.0],\n",
    "                       [-1.0, -1.0,  0.0],\n",
    "                       [ 0.0,  0.0,  1.0],\n",
    "                       [ 0.0,  1.0,  1.0],\n",
    "                       [ 0.0, -1.0,  1.0],\n",
    "                       [ 1.0,  0.0,  1.0],\n",
    "                       [ 1.0,  1.0,  1.0], \n",
    "                       [ 1.0, -1.0,  1.0],\n",
    "                       [-1.0,  0.0,  1.0],\n",
    "                       [-1.0,  1.0,  1.0],\n",
    "                       [-1.0, -1.0,  1.0],\n",
    "                       [ 0.0,  0.0, -1.0],\n",
    "                       [ 0.0,  1.0, -1.0],\n",
    "                       [ 0.0, -1.0, -1.0],\n",
    "                       [ 1.0,  0.0, -1.0],\n",
    "                       [ 1.0,  1.0, -1.0], \n",
    "                       [ 1.0, -1.0, -1.0],\n",
    "                       [-1.0,  0.0, -1.0],\n",
    "                       [-1.0,  1.0, -1.0],\n",
    "                       [-1.0, -1.0, -1.0]])\n",
    "                       \n",
    "cutoff_c = 1.0\n",
    "cutoff_v = 1.0\n",
    "buffer = 30"
   ]
  },
  {
   "cell_type": "markdown",
   "metadata": {},
   "source": [
    "Particles are shifted so that all $x, y, z$ values are positive ($(0, 0, 0)$ at the corner instead of the center)."
   ]
  },
  {
   "cell_type": "code",
   "execution_count": 4,
   "metadata": {},
   "outputs": [],
   "source": [
    "positions += box_edge/2"
   ]
  },
  {
   "cell_type": "markdown",
   "metadata": {},
   "source": [
    "# Cell list method\n",
    "This will create a cell list which breaks the box into 27 boxes of edge size 1 (`cutoff_c`). Because of how we placed the particles, each box will contain exactly one particle."
   ]
  },
  {
   "cell_type": "code",
   "execution_count": 5,
   "metadata": {},
   "outputs": [],
   "source": [
    "cell_list = get_cell_list(positions, box_size, cutoff_c)\n",
    "idxs = jnp.asarray([1, 2, 3, 4, 5, 6, 7, 8, 9])"
   ]
  },
  {
   "cell_type": "markdown",
   "metadata": {},
   "source": [
    "## Method 1\n",
    "\n",
    "Using `get_neighbors_list` we can get the neighbors for a list of particles. Under the hood, this functions calls `vmap` on another function `get_neighbor_ids` which is implemented for a single particle (+ some postprocessing)."
   ]
  },
  {
   "cell_type": "code",
   "execution_count": 6,
   "metadata": {},
   "outputs": [
    {
     "name": "stdout",
     "output_type": "stream",
     "text": [
      "[[26 25 24 23 22 21 20 19 18 17 16 15 14 13 12 11 10  9  8  7  6  5  4  3\n",
      "   2  1  0]\n",
      " [26 25 24 23 22 21 20 19 18 17 16 15 14 13 12 11 10  9  8  7  6  5  4  3\n",
      "   2  1  0]\n",
      " [26 25 24 23 22 21 20 19 18 17 16 15 14 13 12 11 10  9  8  7  6  5  4  3\n",
      "   2  1  0]\n",
      " [26 25 24 23 22 21 20 19 18 17 16 15 14 13 12 11 10  9  8  7  6  5  4  3\n",
      "   2  1  0]\n",
      " [26 25 24 23 22 21 20 19 18 17 16 15 14 13 12 11 10  9  8  7  6  5  4  3\n",
      "   2  1  0]\n",
      " [26 25 24 23 22 21 20 19 18 17 16 15 14 13 12 11 10  9  8  7  6  5  4  3\n",
      "   2  1  0]\n",
      " [26 25 24 23 22 21 20 19 18 17 16 15 14 13 12 11 10  9  8  7  6  5  4  3\n",
      "   2  1  0]\n",
      " [26 25 24 23 22 21 20 19 18 17 16 15 14 13 12 11 10  9  8  7  6  5  4  3\n",
      "   2  1  0]\n",
      " [26 25 24 23 22 21 20 19 18 17 16 15 14 13 12 11 10  9  8  7  6  5  4  3\n",
      "   2  1  0]]\n"
     ]
    }
   ],
   "source": [
    "nbors = get_neighbors_list(box_size=box_size, cutoff=cutoff_c, cell_idx=cell_list, idxs=idxs, buffer_size_cell=buffer, mask_self=False)\n",
    "print(nbors)"
   ]
  },
  {
   "cell_type": "markdown",
   "metadata": {},
   "source": [
    "## Method 2\n",
    "\n",
    "Using `get_neighbor_ids` directly with an external for loop and the postprocessing outside of the neighbor list."
   ]
  },
  {
   "cell_type": "code",
   "execution_count": 7,
   "metadata": {},
   "outputs": [
    {
     "name": "stdout",
     "output_type": "stream",
     "text": [
      "[Array([24,  6, 15, 25,  7, 16, 26,  8, 17, 18,  0,  9, 19, 10, 20,  2, 11,\n",
      "       21,  3, 12, 22,  4, 13, 23,  5, 14], dtype=int32), Array([25,  7, 16, 26,  8, 17, 24,  6, 15, 19,  1, 10, 20, 11, 18,  0,  9,\n",
      "       22,  4, 13, 23,  5, 14, 21,  3, 12], dtype=int32), Array([20,  2, 11, 18,  0,  9, 19,  1, 10, 23,  5, 14, 21, 12, 22,  4, 13,\n",
      "       26,  8, 17, 24,  6, 15, 25,  7, 16], dtype=int32), Array([18,  0,  9, 19,  1, 10, 20,  2, 11, 21,  3, 12, 22, 13, 23,  5, 14,\n",
      "       24,  6, 15, 25,  7, 16, 26,  8, 17], dtype=int32), Array([19,  1, 10, 20,  2, 11, 18,  0,  9, 22,  4, 13, 23, 14, 21,  3, 12,\n",
      "       25,  7, 16, 26,  8, 17, 24,  6, 15], dtype=int32), Array([23,  5, 14, 21,  3, 12, 22,  4, 13, 26,  8, 17, 24, 15, 25,  7, 16,\n",
      "       20,  2, 11, 18,  0,  9, 19,  1, 10], dtype=int32), Array([21,  3, 12, 22,  4, 13, 23,  5, 14, 24,  6, 15, 25, 16, 26,  8, 17,\n",
      "       18,  0,  9, 19,  1, 10, 20,  2, 11], dtype=int32), Array([22,  4, 13, 23,  5, 14, 21,  3, 12, 25,  7, 16, 26, 17, 24,  6, 15,\n",
      "       19,  1, 10, 20,  2, 11, 18,  0,  9], dtype=int32), Array([ 8, 17, 26,  6, 15, 24,  7, 16, 25,  2, 11, 20,  0, 18,  1, 10, 19,\n",
      "        5, 14, 23,  3, 12, 21,  4, 13, 22], dtype=int32)]\n"
     ]
    }
   ],
   "source": [
    "nbors_2 = []\n",
    "for i in idxs:\n",
    "    n_i = get_neighbor_ids(box_size=box_size, cutoff=cutoff_c, cell_idx=cell_list, idx=i, buffer_size_cell=buffer)\n",
    "    n_i = n_i[n_i != i]\n",
    "    n_i = n_i[n_i != -1]\n",
    "    nbors_2.append(n_i)\n",
    "print(nbors_2)"
   ]
  },
  {
   "cell_type": "markdown",
   "metadata": {},
   "source": [
    "Both methods return all 27 particles as neighbors for each particle. This is the expected result because of the way the positions are set up."
   ]
  },
  {
   "cell_type": "markdown",
   "metadata": {},
   "source": [
    "# Verlet list\n",
    "\n",
    "Verlet list can be used together with a cell list to get exact cutoffs. Cell list will capture all particles in the 27 neighboring cell, regardless of exact cutoff selected. This hybrid method is more efficient than calculating pairwise distance for all particles and doesn't require a skin radius."
   ]
  },
  {
   "cell_type": "markdown",
   "metadata": {},
   "source": [
    "## Method 1\n",
    "Here we can get the particle ids of the neighbors of particle $0$ and get its exact neighborhood (`cutoff_v`) with a verlet list using `get_neighborhood`. This functions returns a list of `bool`s that shows whether the particles in the cell list neighbor list are within the verlet cutoff as well."
   ]
  },
  {
   "cell_type": "code",
   "execution_count": 8,
   "metadata": {},
   "outputs": [
    {
     "name": "stdout",
     "output_type": "stream",
     "text": [
      "[18  9  6  3  2  1  0]\n"
     ]
    }
   ],
   "source": [
    "atom0_n_ids = nbors[0][nbors[0] != -1]\n",
    "neighbors = get_neighborhood(positions[atom0_n_ids, :], positions[0, :], cutoff_v, box_size)\n",
    "print(atom0_n_ids[jnp.where(neighbors)])"
   ]
  },
  {
   "cell_type": "markdown",
   "metadata": {},
   "source": [
    "## Method 2\n",
    "We can also get the neighborhood for all particles in a position matrix. The result is a $N \\times N$ matrix (or a list of size $N$ if `sparse = True`)"
   ]
  },
  {
   "cell_type": "code",
   "execution_count": 9,
   "metadata": {},
   "outputs": [
    {
     "name": "stdout",
     "output_type": "stream",
     "text": [
      "[[ True  True  True  True False False  True False False  True False False\n",
      "  False False False False False False  True False False False False False\n",
      "  False False False]\n",
      " [ True  True False False  True False False  True False False  True False\n",
      "  False False False False False False False  True False False False False\n",
      "  False False False]\n",
      " [ True  True  True False False  True False False  True False False  True\n",
      "  False False False False False False False False  True False False False\n",
      "  False False False]\n",
      " [ True False False  True  True  True False False False False False False\n",
      "   True False False False False False False False False  True False False\n",
      "  False False False]\n",
      " [False  True False  True  True False False False False False False False\n",
      "  False  True False False False False False False False False  True False\n",
      "  False False False]\n",
      " [False False  True  True  True  True False False False False False False\n",
      "  False False  True False False False False False False False False  True\n",
      "  False False False]\n",
      " [ True False False  True False False  True  True  True False False False\n",
      "  False False False  True False False False False False False False False\n",
      "   True False False]\n",
      " [False  True False False  True False  True  True False False False False\n",
      "  False False False False  True False False False False False False False\n",
      "  False  True False]\n",
      " [False False  True False False  True  True  True  True False False False\n",
      "  False False False False False  True False False False False False False\n",
      "  False False  True]\n",
      " [ True False False False False False False False False  True  True  True\n",
      "   True False False  True False False False False False False False False\n",
      "  False False False]\n",
      " [False  True False False False False False False False  True  True False\n",
      "  False  True False False  True False False False False False False False\n",
      "  False False False]\n",
      " [False False  True False False False False False False  True  True  True\n",
      "  False False  True False False  True False False False False False False\n",
      "  False False False]\n",
      " [False False False  True False False False False False  True False False\n",
      "   True  True  True False False False False False False False False False\n",
      "  False False False]\n",
      " [False False False False  True False False False False False  True False\n",
      "   True  True False False False False False False False False False False\n",
      "  False False False]\n",
      " [False False False False False  True False False False False False  True\n",
      "   True  True  True False False False False False False False False False\n",
      "  False False False]\n",
      " [False False False False False False  True False False  True False False\n",
      "   True False False  True  True  True False False False False False False\n",
      "  False False False]\n",
      " [False False False False False False False  True False False  True False\n",
      "  False  True False  True  True False False False False False False False\n",
      "  False False False]\n",
      " [False False False False False False False False  True False False  True\n",
      "  False False  True  True  True  True False False False False False False\n",
      "  False False False]\n",
      " [ True False False False False False False False False  True False False\n",
      "  False False False False False False  True  True  True  True False False\n",
      "   True False False]\n",
      " [False  True False False False False False False False False  True False\n",
      "  False False False False False False  True  True False False  True False\n",
      "  False  True False]\n",
      " [False False  True False False False False False False False False  True\n",
      "  False False False False False False  True  True  True False False  True\n",
      "  False False  True]\n",
      " [False False False  True False False False False False False False False\n",
      "   True False False False False False  True False False  True  True  True\n",
      "  False False False]\n",
      " [False False False False  True False False False False False False False\n",
      "  False  True False False False False False  True False  True  True False\n",
      "  False False False]\n",
      " [False False False False False  True False False False False False False\n",
      "  False False  True False False False False False  True  True  True  True\n",
      "  False False False]\n",
      " [False False False False False False  True False False False False False\n",
      "  False False False  True False False  True False False  True False False\n",
      "   True  True  True]\n",
      " [False False False False False False False  True False False False False\n",
      "  False False False False  True False False  True False False  True False\n",
      "   True  True False]\n",
      " [False False False False False False False False  True False False False\n",
      "  False False False False False  True False False  True False False  True\n",
      "   True  True  True]]\n"
     ]
    }
   ],
   "source": [
    "n_ids_verlet = get_verlet_neighbor_ids(positions, cutoff_v, box_size, sparse=False)\n",
    "print(n_ids_verlet)"
   ]
  },
  {
   "cell_type": "code",
   "execution_count": 10,
   "metadata": {},
   "outputs": [
    {
     "name": "stdout",
     "output_type": "stream",
     "text": [
      "[Array([ 0,  1,  2,  3,  6,  9, 18], dtype=int32), Array([ 0,  1,  4,  7, 10, 19], dtype=int32), Array([ 0,  1,  2,  5,  8, 11, 20], dtype=int32), Array([ 0,  3,  4,  5, 12, 21], dtype=int32), Array([ 1,  3,  4, 13, 22], dtype=int32), Array([ 2,  3,  4,  5, 14, 23], dtype=int32), Array([ 0,  3,  6,  7,  8, 15, 24], dtype=int32), Array([ 1,  4,  6,  7, 16, 25], dtype=int32), Array([ 2,  5,  6,  7,  8, 17, 26], dtype=int32), Array([ 0,  9, 10, 11, 12, 15], dtype=int32), Array([ 1,  9, 10, 13, 16], dtype=int32), Array([ 2,  9, 10, 11, 14, 17], dtype=int32), Array([ 3,  9, 12, 13, 14], dtype=int32), Array([ 4, 10, 12, 13], dtype=int32), Array([ 5, 11, 12, 13, 14], dtype=int32), Array([ 6,  9, 12, 15, 16, 17], dtype=int32), Array([ 7, 10, 13, 15, 16], dtype=int32), Array([ 8, 11, 14, 15, 16, 17], dtype=int32), Array([ 0,  9, 18, 19, 20, 21, 24], dtype=int32), Array([ 1, 10, 18, 19, 22, 25], dtype=int32), Array([ 2, 11, 18, 19, 20, 23, 26], dtype=int32), Array([ 3, 12, 18, 21, 22, 23], dtype=int32), Array([ 4, 13, 19, 21, 22], dtype=int32), Array([ 5, 14, 20, 21, 22, 23], dtype=int32), Array([ 6, 15, 18, 21, 24, 25, 26], dtype=int32), Array([ 7, 16, 19, 22, 24, 25], dtype=int32), Array([ 8, 17, 20, 23, 24, 25, 26], dtype=int32)]\n"
     ]
    }
   ],
   "source": [
    "n_ids_verlet_s = get_verlet_neighbor_ids(positions, cutoff_v, box_size, sparse=True)\n",
    "print(n_ids_verlet_s)"
   ]
  }
 ],
 "metadata": {
  "kernelspec": {
   "display_name": "jax",
   "language": "python",
   "name": "python3"
  },
  "language_info": {
   "codemirror_mode": {
    "name": "ipython",
    "version": 3
   },
   "file_extension": ".py",
   "mimetype": "text/x-python",
   "name": "python",
   "nbconvert_exporter": "python",
   "pygments_lexer": "ipython3",
   "version": "3.9.18"
  }
 },
 "nbformat": 4,
 "nbformat_minor": 2
}
